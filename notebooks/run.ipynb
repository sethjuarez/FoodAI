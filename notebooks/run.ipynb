{
 "cells": [
  {
   "cell_type": "code",
   "execution_count": 1,
   "metadata": {},
   "outputs": [],
   "source": [
    "import json\n",
    "import time\n",
    "import azureml\n",
    "import logging\n",
    "from azureml.train.dnn import PyTorch\n",
    "from azureml.widgets import RunDetails\n",
    "from azureml.core.compute import ComputeTarget, AmlCompute\n",
    "from azureml.core.compute_target import ComputeTargetException\n",
    "from azureml.core import Workspace, Run, Datastore, Experiment"
   ]
  },
  {
   "cell_type": "code",
   "execution_count": 2,
   "metadata": {},
   "outputs": [
    {
     "output_type": "stream",
     "name": "stderr",
     "text": [
      "WARNING - Warning: Falling back to use azure cli login credentials.\nIf you run your code in unattended mode, i.e., where you can't give a user input, then we recommend to use ServicePrincipalAuthentication or MsiAuthentication.\nPlease refer to aka.ms/aml-notebook-auth for different authentication mechanisms in azureml-sdk.\n"
     ]
    }
   ],
   "source": [
    "# use this code to set up config file\n",
    "#subscription_id ='<SUB_ID>'\n",
    "#resource_group ='<RESOURCE_GROUP>'\n",
    "#workspace_name = '<WORKSPACE>'\n",
    "\n",
    "#try:\n",
    "#    ws = Workspace(subscription_id = subscription_id, resource_group = resource_group, workspace_name = workspace_name)\n",
    "#    ws.write_config()\n",
    "#    print('Workspace configuration succeeded. You are all set!')\n",
    "#except:\n",
    "#    print('Workspace not found. TOO MANY ISSUES!!!')\n",
    "\n",
    "ws = Workspace.from_config()"
   ]
  },
  {
   "cell_type": "code",
   "execution_count": 3,
   "metadata": {},
   "outputs": [
    {
     "output_type": "stream",
     "name": "stdout",
     "text": [
      "Found existing compute target\n"
     ]
    }
   ],
   "source": [
    "cluster = 'gandalf'\n",
    "try:\n",
    "    compute = ComputeTarget(workspace=ws, name=cluster)\n",
    "    print('Found existing compute target')\n",
    "except ComputeTargetException:\n",
    "    print('Creating a new compute target...')\n",
    "    compute_config = AmlCompute.provisioning_configuration(vm_size='STANDARD_NC6', min_nodes=1, max_nodes=6)\n",
    "    compute = ComputeTarget.create(ws, cluster, compute_config)\n",
    "    compute.wait_for_completion(show_output=True)"
   ]
  },
  {
   "cell_type": "code",
   "execution_count": 4,
   "metadata": {},
   "outputs": [
    {
     "output_type": "stream",
     "name": "stdout",
     "text": [
      "azureml_globaldatasets AzureBlob\nfoodai AzureBlob\nabsa AzureBlob\nsurfrider AzureBlob\nseer AzureBlob\nsmtprodwestus21globaluploadedresources AzureBlob\nworkspaceblobstore AzureBlob\nworkspacefilestore AzureFile\n"
     ]
    }
   ],
   "source": [
    "# Register datastore\n",
    "#ds = Datastore.register_azure_blob_container(workspace=ws,\n",
    "#                                             datastore_name='foodai',\n",
    "#                                             container_name='foodai',\n",
    "#                                             account_name='haldatasets',\n",
    "#                                             account_key='<KEY>',\n",
    "#                                             create_if_not_exists=False)\n",
    "\n",
    "for name, ds in ws.datastores.items():\n",
    "    print(name, ds.datastore_type)"
   ]
  },
  {
   "cell_type": "code",
   "execution_count": 9,
   "metadata": {},
   "outputs": [
    {
     "output_type": "stream",
     "name": "stderr",
     "text": [
      "WARNING - framework_version is not specified, defaulting to version 1.4.\n"
     ]
    }
   ],
   "source": [
    "ds = Datastore.get(ws, datastore_name='foodai')\n",
    "script_params = {\n",
    "    \"--data\": ds.as_mount(), # don't download\n",
    "    \"--output\": \"outputs\",\n",
    "    \"--epochs\": 25,\n",
    "    \"--batch\": 8,\n",
    "    \"--lr\": 0.001,\n",
    "}\n",
    "\n",
    "# Create and run experiment\n",
    "foodEstimator = PyTorch(source_directory='../src',\n",
    "                        script_params=script_params,\n",
    "                        compute_target=compute,\n",
    "                        entry_script='../src/train.py',\n",
    "                        conda_packages=['matplotlib'],\n",
    "                        use_gpu=True)"
   ]
  },
  {
   "cell_type": "code",
   "execution_count": 10,
   "metadata": {},
   "outputs": [
    {
     "output_type": "stream",
     "name": "stderr",
     "text": [
      "WARNING - If 'script' has been provided here and a script file name has been specified in 'run_config', 'script' provided in ScriptRunConfig initialization will take precedence.\n",
      "WARNING - If 'arguments' has been provided here and arguments have been specified in 'run_config', 'arguments' provided in ScriptRunConfig initialization will take precedence.\n"
     ]
    },
    {
     "output_type": "execute_result",
     "data": {
      "text/plain": [
       "Run(Experiment: foodai,\n",
       "Id: foodai_1605250271_0b808a6b,\n",
       "Type: azureml.scriptrun,\n",
       "Status: Starting)"
      ],
      "text/html": "<table style=\"width:100%\"><tr><th>Experiment</th><th>Id</th><th>Type</th><th>Status</th><th>Details Page</th><th>Docs Page</th></tr><tr><td>foodai</td><td>foodai_1605250271_0b808a6b</td><td>azureml.scriptrun</td><td>Starting</td><td><a href=\"https://ml.azure.com/experiments/foodai/runs/foodai_1605250271_0b808a6b?wsid=/subscriptions/91d27443-f037-45d9-bb0c-428256992df6/resourcegroups/robots/workspaces/hal\" target=\"_blank\" rel=\"noopener\">Link to Azure Machine Learning studio</a></td><td><a href=\"https://docs.microsoft.com/en-us/python/api/azureml-core/azureml.core.script_run.ScriptRun?view=azure-ml-py\" target=\"_blank\" rel=\"noopener\">Link to Documentation</a></td></tr></table>"
     },
     "metadata": {},
     "execution_count": 10
    }
   ],
   "source": [
    "exp = Experiment(ws, 'foodai')\n",
    "run = exp.submit(foodEstimator)\n",
    "run"
   ]
  },
  {
   "cell_type": "code",
   "execution_count": null,
   "metadata": {},
   "outputs": [],
   "source": []
  }
 ],
 "metadata": {
  "kernelspec": {
   "display_name": "Python 3.8.1 64-bit ('torch': conda)",
   "language": "python",
   "name": "python38164bittorchcondadd711ca68ad04861aabbde1fbd726c82"
  },
  "language_info": {
   "codemirror_mode": {
    "name": "ipython",
    "version": 3
   },
   "file_extension": ".py",
   "mimetype": "text/x-python",
   "name": "python",
   "nbconvert_exporter": "python",
   "pygments_lexer": "ipython3",
   "version": "3.6.10-final"
  }
 },
 "nbformat": 4,
 "nbformat_minor": 2
}