{
 "cells": [
  {
   "cell_type": "code",
   "execution_count": null,
   "metadata": {},
   "outputs": [],
   "source": [
    "# License: BSD
",
    "# Author: Sasank Chilamkurthy
",
    "# Initial Source: https://pytorch.org/tutorials/beginner/transfer_learning_tutorial.html
",
    "# Modified: Seth Juarez (Microsoft)
",
    "
",
    "from __future__ import print_function, division
",
    "
",
    "import torch
",
    "import torch.nn as nn
",
    "import torch.optim as optim
",
    "from torch.optim import lr_scheduler
",
    "import numpy as np
",
    "import torchvision
",
    "from torchvision import datasets, models, transforms
",
    "import matplotlib.pyplot as plt
",
    "import time
",
    "import os
",
    "import copy
",
    "
",
    "plt.ion()   # interactive mode"
   ]
  },
  {
   "cell_type": "code",
   "execution_count": null,
   "metadata": {},
   "outputs": [],
   "source": [
    "# Data augmentation and normalization for training
",
    "# Just normalization for validation
",
    "data_transforms = {
",
    "    'train': transforms.Compose([
",
    "        transforms.RandomResizedCrop(224),
",
    "        transforms.RandomHorizontalFlip(),
",
    "        transforms.ToTensor(),
",
    "        transforms.Normalize([0.485, 0.456, 0.406], [0.229, 0.224, 0.225])
",
    "    ]),
",
    "    'val': transforms.Compose([
",
    "        transforms.Resize(256),
",
    "        transforms.CenterCrop(224),
",
    "        transforms.ToTensor(),
",
    "        transforms.Normalize([0.485, 0.456, 0.406], [0.229, 0.224, 0.225])
",
    "    ]),
",
    "}
",
    "
",
    "data_dir = 'data'
",
    "image_datasets = {x: datasets.ImageFolder(os.path.join(data_dir, x),
",
    "                                          data_transforms[x])
",
    "                  for x in ['train', 'val']}
",
    "dataloaders = {x: torch.utils.data.DataLoader(image_datasets[x], batch_size=4,
",
    "                                             shuffle=True, num_workers=4)
",
    "              for x in ['train', 'val']}
",
    "dataset_sizes = {x: len(image_datasets[x]) for x in ['train', 'val']}
",
    "class_names = image_datasets['train'].classes
",
    "
",
    "device = torch.device(\"cuda:0\" if torch.cuda.is_available() else \"cpu\")"
   ]
  },
  {
   "cell_type": "code",
   "execution_count": null,
   "metadata": {},
   "outputs": [],
   "source": [
    "def imshow(inp, title=None):
",
    "    \"\"\"Imshow for Tensor.\"\"\"
",
    "    inp = inp.numpy().transpose((1, 2, 0))
",
    "    mean = np.array([0.485, 0.456, 0.406])
",
    "    std = np.array([0.229, 0.224, 0.225])
",
    "    inp = std * inp + mean
",
    "    inp = np.clip(inp, 0, 1)
",
    "    plt.imshow(inp)
",
    "    if title is not None:
",
    "        plt.title(title)
",
    "    plt.pause(0.001)  # pause a bit so that plots are updated
",
    "
",
    "
",
    "# Get a batch of training data
",
    "inputs, classes = next(iter(dataloaders['train']))
",
    "
",
    "# Make a grid from batch
",
    "out = torchvision.utils.make_grid(inputs)
",
    "
",
    "imshow(out, title=[class_names[x] for x in classes])"
   ]
  },
  {
   "cell_type": "code",
   "execution_count": null,
   "metadata": {},
   "outputs": [],
   "source": [
    "def train_model(model, criterion, optimizer, scheduler, num_epochs=25):
",
    "    since = time.time()
",
    "
",
    "    best_model_wts = copy.deepcopy(model.state_dict())
",
    "    best_acc = 0.0
",
    "
",
    "    for epoch in range(num_epochs):
",
    "        print('Epoch {}/{}'.format(epoch, num_epochs - 1))
",
    "        print('-' * 10)
",
    "
",
    "        # Each epoch has a training and validation phase
",
    "        for phase in ['train', 'val']:
",
    "            if phase == 'train':
",
    "                scheduler.step()
",
    "                model.train()  # Set model to training mode
",
    "            else:
",
    "                model.eval()   # Set model to evaluate mode
",
    "
",
    "            running_loss = 0.0
",
    "            running_corrects = 0
",
    "
",
    "            # Iterate over data.
",
    "            for inputs, labels in dataloaders[phase]:
",
    "                inputs = inputs.to(device)
",
    "                labels = labels.to(device)
",
    "
",
    "                # zero the parameter gradients
",
    "                optimizer.zero_grad()
",
    "
",
    "                # forward
",
    "                # track history if only in train
",
    "                with torch.set_grad_enabled(phase == 'train'):
",
    "                    outputs = model(inputs)
",
    "                    _, preds = torch.max(outputs, 1)
",
    "                    loss = criterion(outputs, labels)
",
    "
",
    "                    # backward + optimize only if in training phase
",
    "                    if phase == 'train':
",
    "                        loss.backward()
",
    "                        optimizer.step()
",
    "
",
    "                # statistics
",
    "                running_loss += loss.item() * inputs.size(0)
",
    "                running_corrects += torch.sum(preds == labels.data)
",
    "
",
    "            epoch_loss = running_loss / dataset_sizes[phase]
",
    "            epoch_acc = running_corrects.double() / dataset_sizes[phase]
",
    "
",
    "            print('{} Loss: {:.4f} Acc: {:.4f}'.format(
",
    "                phase, epoch_loss, epoch_acc))
",
    "
",
    "            # deep copy the model
",
    "            if phase == 'val' and epoch_acc > best_acc:
",
    "                best_acc = epoch_acc
",
    "                best_model_wts = copy.deepcopy(model.state_dict())
",
    "
",
    "        print()
",
    "
",
    "    time_elapsed = time.time() - since
",
    "    print('Training complete in {:.0f}m {:.0f}s'.format(
",
    "        time_elapsed // 60, time_elapsed % 60))
",
    "    print('Best val Acc: {:4f}'.format(best_acc))
",
    "
",
    "    # load best model weights
",
    "    model.load_state_dict(best_model_wts)
",
    "    return model"
   ]
  },
  {
   "cell_type": "code",
   "execution_count": null,
   "metadata": {},
   "outputs": [],
   "source": [
    "model_ft = models.resnet18(pretrained=True)
",
    "num_ftrs = model_ft.fc.in_features
",
    "model_ft.fc = nn.Linear(num_ftrs, 2)
",
    "
",
    "model_ft = model_ft.to(device)
",
    "
",
    "criterion = nn.CrossEntropyLoss()
",
    "
",
    "# Observe that all parameters are being optimized
",
    "optimizer_ft = optim.SGD(model_ft.parameters(), lr=0.001, momentum=0.9)
",
    "
",
    "# Decay LR by a factor of 0.1 every 7 epochs
",
    "exp_lr_scheduler = lr_scheduler.StepLR(optimizer_ft, step_size=7, gamma=0.1)"
   ]
  },
  {
   "cell_type": "code",
   "execution_count": null,
   "metadata": {
    "scrolled": true
   },
   "outputs": [],
   "source": [
    "model_ft = train_model(model_ft, criterion, optimizer_ft, exp_lr_scheduler, num_epochs=1)"
   ]
  },
  {
   "cell_type": "code",
   "execution_count": null,
   "metadata": {},
   "outputs": [],
   "source": [
    "def visualize_model(model, num_images=20, cols=5):
",
    "    was_training = model.training
",
    "    model.eval()
",
    "    images_so_far = 0
",
    "
",
    "    rows = num_images//cols if num_images % cols == 0 else num_images//cols + 1
",
    "    fig, axes = plt.subplots(rows, cols, figsize=(18, 7), 
",
    "                      subplot_kw={'xticks':[], 'yticks':[]},
",
    "                      gridspec_kw=dict(hspace=0.4, wspace=0.1))
",
    "    
",
    "    axs = enumerate(axes.flat)
",
    "    mean = np.array([0.485, 0.456, 0.406])
",
    "    std = np.array([0.229, 0.224, 0.225])
",
    "    with torch.no_grad():
",
    "        for i, (inputs, labels) in enumerate(dataloaders['val']):
",
    "            inputs = inputs.to(device)
",
    "            labels = labels.to(device)
",
    "
",
    "            outputs = model(inputs)
",
    "            _, preds = torch.max(outputs, 1)
",
    "
",
    "            for j in range(inputs.size()[0]):
",
    "                images_so_far += 1
",
    "                _, ax = next(axs)
",
    "                inp = inputs.cpu().data[j].numpy().transpose((1, 2, 0))
",
    "                inp = std * inp + mean
",
    "                inp = np.clip(inp, 0, 1)
",
    "                ax.imshow(inp)
",
    "                ax.set_title('prediction: {}'.format(class_names[preds[j]]))
",
    "
",
    "                if images_so_far == num_images:
",
    "                    model.train(mode=was_training)
",
    "                    return
",
    "        model.train(mode=was_training)"
   ]
  },
  {
   "cell_type": "code",
   "execution_count": null,
   "metadata": {},
   "outputs": [],
   "source": [
    "visualize_model(model_ft, num_images=20, cols=5)"
   ]
  },
  {
   "cell_type": "code",
   "execution_count": null,
   "metadata": {},
   "outputs": [],
   "source": [
    "model_conv = torchvision.models.resnet18(pretrained=True)
",
    "for param in model_conv.parameters():
",
    "    param.requires_grad = False
",
    "
",
    "# Parameters of newly constructed modules have requires_grad=True by default
",
    "num_ftrs = model_conv.fc.in_features
",
    "model_conv.fc = nn.Linear(num_ftrs, 2)
",
    "
",
    "model_conv = model_conv.to(device)
",
    "
",
    "criterion = nn.CrossEntropyLoss()
",
    "
",
    "# Observe that only parameters of final layer are being optimized as
",
    "# opposed to before.
",
    "optimizer_conv = optim.SGD(model_conv.fc.parameters(), lr=0.001, momentum=0.9)
",
    "
",
    "# Decay LR by a factor of 0.1 every 7 epochs
",
    "exp_lr_scheduler = lr_scheduler.StepLR(optimizer_conv, step_size=7, gamma=0.1)"
   ]
  },
  {
   "cell_type": "code",
   "execution_count": null,
   "metadata": {},
   "outputs": [],
   "source": [
    "model_conv = train_model(model_conv, criterion, optimizer_conv,
",
    "                         exp_lr_scheduler, num_epochs=25)"
   ]
  },
  {
   "cell_type": "code",
   "execution_count": null,
   "metadata": {},
   "outputs": [],
   "source": [
    "visualize_model(model_conv, num_images=10)
",
    "
",
    "plt.ioff()
",
    "plt.show()"
   ]
  },
  {
   "cell_type": "code",
   "execution_count": null,
   "metadata": {},
   "outputs": [],
   "source": [
    "import torch.onnx as onnx"
   ]
  },
  {
   "cell_type": "code",
   "execution_count": null,
   "metadata": {},
   "outputs": [],
   "source": [
    "x = torch.randint(255, (1, 3, 224, 224), dtype=torch.float).to(device) / 255
",
    "onnx.export(model_conv, x, \"model.onnx\")
",
    "print('Saved onnx model to {}'.format(\"model.onnx\"))"
   ]
  },
  {
   "cell_type": "code",
   "execution_count": null,
   "metadata": {},
   "outputs": [],
   "source": []
  }
 ],
 "metadata": {
  "kernelspec": {
   "display_name": "Python 3",
   "language": "python",
   "name": "python3"
  },
  "language_info": {
   "codemirror_mode": {
    "name": "ipython",
    "version": 3
   },
   "file_extension": ".py",
   "mimetype": "text/x-python",
   "name": "python",
   "nbconvert_exporter": "python",
   "pygments_lexer": "ipython3",
   "version": "3.7.3"
  }
 },
 "nbformat": 4,
 "nbformat_minor": 2
}
